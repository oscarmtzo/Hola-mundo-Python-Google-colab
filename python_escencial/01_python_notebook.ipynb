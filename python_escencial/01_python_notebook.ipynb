{
 "cells": [
  {
   "cell_type": "markdown",
   "metadata": {},
   "source": [
    "#Python Escencial \n",
    "## Cadena o String \n",
    "\n",
    "- las *strings* o cadenas, son aquellos tipos de datos que nos ayudan a desplegar informacion o datos en formato de texto, ya sean simbolos, caracteres especiales, letras y numeros.\n",
    "\n",
    "`\"hola mundo\"`\n",
    "\n",
    "- `print()` es una función que viene  predefinida dentro del  lenguaje de programacion de Python que nos ayuda a mostrar datos en formato de caracteres hacia el usuario cuando utiliza una aplicación de línea de comandos programado con Python\n",
    "- dentro de `print(args)` podemos usar \"args\" como una cajita para almacenar las cadenas, o tambien podemos escribir dentro de los parentesis, la cadena literal, respetando su sintaxis de inicio y finaal con comillas dobles:\n",
    "\n",
    "`print(\"Hola mundo\")`\n",
    "Resultado:\n",
    "`Hola mundo`"
   ]
  },
  {
   "cell_type": "code",
   "execution_count": 1,
   "metadata": {},
   "outputs": [
    {
     "name": "stdout",
     "output_type": "stream",
     "text": [
      "hola mundo\n"
     ]
    }
   ],
   "source": [
    "print (\"hola mundo\")"
   ]
  },
  {
   "cell_type": "markdown",
   "metadata": {},
   "source": [
    "\n",
    "- Ademas las cadenas son secuencias de caracteres. Se pueden declarar usando comillas simples o dobles."
   ]
  },
  {
   "cell_type": "code",
   "execution_count": 12,
   "metadata": {},
   "outputs": [
    {
     "name": "stdout",
     "output_type": "stream",
     "text": [
      "Hola Mundo\n",
      "Primer carácter de cadena1: H\n"
     ]
    }
   ],
   "source": [
    "# Declarar cadenas\n",
    "cadena1 = \"Hola\"\n",
    "cadena2 = 'Mundo'\n",
    "\n",
    "# Concatenar cadenas\n",
    "concatenacion = cadena1 + \" \" + cadena2\n",
    "print(concatenacion)  # Output: Hola Mundo\n",
    "\n",
    "# Acceder a un carácter de la cadena\n",
    "primer_caracter = cadena1[0]\n",
    "print(\"Primer carácter de cadena1:\", primer_caracter)  # Output: H\n"
   ]
  },
  {
   "cell_type": "markdown",
   "metadata": {},
   "source": []
  },
  {
   "cell_type": "markdown",
   "metadata": {},
   "source": [
    "## Comentarios en Python\n",
    "Los comentarios en Python se utilizan para dejar notas o explicaciones dentro del código. Se crean usando el símbolo `#`.\n",
    "\n",
    "```python\n",
    "# Esto es un comentario\n",
    "print(\"Hola, mundo!\")  # Este es otro comentario\n",
    "```"
   ]
  },
  {
   "cell_type": "markdown",
   "metadata": {},
   "source": []
  },
  {
   "cell_type": "markdown",
   "metadata": {},
   "source": [
    "## Concatenación de Strings\n",
    "La concatenación de strings se realiza uniendo dos o más strings usando el operador `+`.\n",
    "\n",
    "```python\n",
    "# Ejemplo de concatenación de strings\n",
    "string1 = \"Hola\"\n",
    "string2 = \"Mundo\"\n",
    "concatenacion = string1 + \" \" + string2\n",
    "print(concatenacion)  # impresion en interfaz de linea de comandos de python: Hola Mundo```\n"
   ]
  },
  {
   "cell_type": "code",
   "execution_count": 1,
   "metadata": {},
   "outputs": [
    {
     "name": "stdout",
     "output_type": "stream",
     "text": [
      "Hola Mundo\n"
     ]
    }
   ],
   "source": [
    "# Ejemplo de concatenación de strings\n",
    "string1 = \"Hola\"\n",
    "string2 = \"Mundo\"\n",
    "concatenacion = string1 + \" \" + string2\n",
    "print(concatenacion) "
   ]
  },
  {
   "cell_type": "markdown",
   "metadata": {},
   "source": [
    "## Repetir Strings\n",
    "- Se puedeb repetir strings usando el operador `*`"
   ]
  },
  {
   "cell_type": "code",
   "execution_count": 2,
   "metadata": {},
   "outputs": [
    {
     "name": "stdout",
     "output_type": "stream",
     "text": [
      "HolaHolaHola\n"
     ]
    }
   ],
   "source": [
    "# Ejemplo de repetición de strings\n",
    "string = \"Hola\"\n",
    "repeticion = string * 3\n",
    "print(repeticion)  #impresion es: HolaHolaHola\n"
   ]
  },
  {
   "cell_type": "markdown",
   "metadata": {},
   "source": [
    "## Función print()\n",
    "- La función print() se utiliza para mostrar texto u otros resultados en la consola."
   ]
  },
  {
   "cell_type": "code",
   "execution_count": 3,
   "metadata": {},
   "outputs": [
    {
     "name": "stdout",
     "output_type": "stream",
     "text": [
      "Hola, mundo!\n",
      "7\n"
     ]
    }
   ],
   "source": [
    "# Ejemplos de uso de la función print()\n",
    "print(\"Hola, mundo!\")  # Impresion en CLI: Hola, mundo!\n",
    "print(3 + 4)           # Impresion en CLI: 7\n"
   ]
  },
  {
   "cell_type": "markdown",
   "metadata": {},
   "source": [
    "## Concatenar Strings usando print()\n",
    "- Para concatenar strings o cadenas de textto directamente en la función print() usando el operador + o separando los elementos con comas."
   ]
  },
  {
   "cell_type": "code",
   "execution_count": 4,
   "metadata": {},
   "outputs": [
    {
     "name": "stdout",
     "output_type": "stream",
     "text": [
      "Nombre: Paola, Edad: 26\n",
      "Nombre: Paola Edad: 26\n"
     ]
    }
   ],
   "source": [
    "# Ejemplo de concatenación de strings en print()\n",
    "nombre = \"Paola\"\n",
    "edad = 26\n",
    "print(\"Nombre: \" + nombre + \", Edad: \" + str(edad))  # Output: Nombre: Paola, Edad: 26\n",
    "\n",
    "# También puedes usar comas, lo cual añade espacios automáticamente\n",
    "print(\"Nombre:\", nombre, \"Edad:\", edad)  # Output: Nombre: Paola Edad: 26\n"
   ]
  },
  {
   "cell_type": "markdown",
   "metadata": {},
   "source": [
    "## Sumas, Restas, Multiplicaciones y Divisiones\n",
    "- Python automaticamente le asigna un tipo sin tener que inicializarlo o asignarlo a una variable, esto lo hace muy practico \n"
   ]
  },
  {
   "cell_type": "code",
   "execution_count": 5,
   "metadata": {},
   "outputs": [
    {
     "name": "stdout",
     "output_type": "stream",
     "text": [
      "Suma: 8\n",
      "Resta: 8\n",
      "Multiplicación: 28\n",
      "División: 5.0\n"
     ]
    }
   ],
   "source": [
    "# Suma\n",
    "suma = 5 + 3\n",
    "print(\"Suma:\", suma)  # Output: 8\n",
    "\n",
    "# Resta\n",
    "resta = 10 - 2\n",
    "print(\"Resta:\", resta)  # Output: 8\n",
    "\n",
    "# Multiplicación\n",
    "multiplicacion = 4 * 7\n",
    "print(\"Multiplicación:\", multiplicacion)  # Output: 28\n",
    "\n",
    "# División\n",
    "division = 20 / 4\n",
    "print(\"División:\", division)  # Output: 5.0\n"
   ]
  },
  {
   "cell_type": "markdown",
   "metadata": {},
   "source": [
    "## Declarar Variables y Operaciones con Variables\n",
    "- Declarar variables significa que las guardaremos datos en la meoria del programa, pueden ser de diferentes tipos de datos, por ejemplo numerico, cadenas hasta otro tipo de datos y estructuras de datos mas complejas:"
   ]
  },
  {
   "cell_type": "code",
   "execution_count": 6,
   "metadata": {},
   "outputs": [
    {
     "name": "stdout",
     "output_type": "stream",
     "text": [
      "Suma: 11\n",
      "Resta: -5\n",
      "Multiplicación: 24\n",
      "División: 0.375\n"
     ]
    }
   ],
   "source": [
    "# Declarar variables\n",
    "a = 3\n",
    "b = 8\n",
    "\n",
    "# Operaciones con variables\n",
    "suma = a + b\n",
    "resta = a - b\n",
    "multiplicacion = a * b\n",
    "division = a / b\n",
    "\n",
    "print(\"Suma:\", suma)             # Output: 11\n",
    "print(\"Resta:\", resta)           # Output: -5\n",
    "print(\"Multiplicación:\", multiplicacion)  # Output: 24\n",
    "print(\"División:\", division)     # Output: 0.375\n"
   ]
  },
  {
   "cell_type": "markdown",
   "metadata": {},
   "source": [
    "## Declarar Múltiples Variables en una Sola Línea\n",
    "- nos ayuda a ordenar el codigo en una solalinea para la creacion y asignacion de valores a variables "
   ]
  },
  {
   "cell_type": "code",
   "execution_count": null,
   "metadata": {},
   "outputs": [],
   "source": [
    "# Declarar múltiples variables en una sola línea\n",
    "nombre_1, edad = \"Mario\", 26\n",
    "print(\"Nombre:\", nombre_1)  # Output: Mario\n",
    "print(\"Edad:\", edad)      # Output: 26\n"
   ]
  },
  {
   "cell_type": "markdown",
   "metadata": {},
   "source": [
    "## Operadores de Asignación\n",
    "- los operadores de asignacion nos ayudan a reducir pasos con operaciones aritmeticas, envez de sumar y asignar el total del valor de la suma a una variable o a un valor anterior, se puede simplificar y realizarse todo en uno, así con como con los demas operadores aritmeticos:"
   ]
  },
  {
   "cell_type": "code",
   "execution_count": null,
   "metadata": {},
   "outputs": [],
   "source": [
    "x = 5\n",
    "\n",
    "x += 3  # Equivalente a x = x + 3\n",
    "print(\"x += 3:\", x)  # Output: 8\n",
    "\n",
    "x -= 2  # Equivalente a x = x - 2\n",
    "print(\"x -= 2:\", x)  # Output: 6\n",
    "\n",
    "x *= 4  # Equivalente a x = x * 4\n",
    "print(\"x *= 4:\", x)  # Output: 24\n",
    "\n",
    "x /= 2  # Equivalente a x = x / 2\n",
    "print(\"x /= 2:\", x)  # Output: 12.0\n",
    "\n",
    "x //= 3  # Equivalente a x = x // 3\n",
    "print(\"x //= 3:\", x)  # Output: 4\n",
    "\n",
    "x **= 2  # Equivalente a x = x ** 2\n",
    "print(\"x **= 2:\", x)  # Output: 16\n",
    "\n",
    "x %= 5  # Equivalente a x = x % 5\n",
    "print(\"x %= 5:\", x)  # Output: 1\n"
   ]
  },
  {
   "cell_type": "markdown",
   "metadata": {},
   "source": [
    "## Funciones en Python\n",
    "- Las funciones en Python son bloques de código que realizan una tarea específica. Se definen con la palabra clave `def`, ademas se pueden a volver a usar, y se le pueden pasar 0, 1 o mas argumentos, que son las cajas donde se almacenan los valores o datos de nuestro programa\n"
   ]
  },
  {
   "cell_type": "code",
   "execution_count": 8,
   "metadata": {},
   "outputs": [
    {
     "name": "stdout",
     "output_type": "stream",
     "text": [
      "¡Hola!\n",
      "hola  Julian\n"
     ]
    }
   ],
   "source": [
    "# Definición de una función\n",
    "def saludo():\n",
    "    print(\"¡Hola!\")\n",
    "\n",
    "# Llamada a la función\n",
    "saludo()  # Output: ¡Hola!\n",
    "\n",
    "def saludoNombre(name):\n",
    "    print(\"hola \", name)\n",
    "\n",
    "saludoNombre(\"Julian\")"
   ]
  },
  {
   "cell_type": "markdown",
   "metadata": {},
   "source": [
    "La función import se utiliza para importar módulos en Python, lo que permite usar funciones y variables definidas en esos módulos."
   ]
  },
  {
   "cell_type": "code",
   "execution_count": 9,
   "metadata": {},
   "outputs": [
    {
     "name": "stdout",
     "output_type": "stream",
     "text": [
      "Raíz cuadrada de 16: 4.0\n"
     ]
    }
   ],
   "source": [
    "# Importar el módulo math\n",
    "import math\n",
    "\n",
    "# Usar una función del módulo math\n",
    "print(\"Raíz cuadrada de 16:\", math.sqrt(16))  # Output: 4.0\n"
   ]
  },
  {
   "cell_type": "markdown",
   "metadata": {},
   "source": [
    "# Potencia n-ésima de un Número\n",
    "- cuando deseamos realizar un calculo de un numero cuya potencia sea diferente de 1, podemos usar la siguiente notacion sin importar si es positivo o negativo"
   ]
  },
  {
   "cell_type": "code",
   "execution_count": 10,
   "metadata": {},
   "outputs": [
    {
     "name": "stdout",
     "output_type": "stream",
     "text": [
      "5! = 120\n",
      "9\n"
     ]
    }
   ],
   "source": [
    "# Calcular el factorial de un número\n",
    "import math\n",
    "\n",
    "numero = 5\n",
    "factorial = math.factorial(numero)\n",
    "print(\"5! =\", factorial)  # Output: 120\n",
    "\n",
    "# forma con uso de operadores aritmeticos\n",
    "print(3**2)\n"
   ]
  },
  {
   "cell_type": "markdown",
   "metadata": {},
   "source": [
    "## Realizar una Operación Compleja\n",
    "- Al ser python un lenguaje muy usado por cientificos de datos, normalmente se requieren usar operaciones mas complejos y anidadas\n"
   ]
  },
  {
   "cell_type": "code",
   "execution_count": 14,
   "metadata": {},
   "outputs": [
    {
     "name": "stdout",
     "output_type": "stream",
     "text": [
      "Resultado de la operación: 105.68\n",
      "a:  2097152.0\n"
     ]
    }
   ],
   "source": [
    "a = (6**4 + 5**2) * 2\n",
    "b = (3**2 + 4**2)\n",
    "resultado = a / b\n",
    "print(\"Resultado de la operación:\", resultado)\n",
    "\n",
    "# resolucion a pregunta 9  donde a= [(6+2)^8] / [4-2]^3\n",
    "a = ( (6+2)**8 ) / ((4-2) ** 3)\n",
    "print(\"a: \", a)\n"
   ]
  },
  {
   "cell_type": "code",
   "execution_count": null,
   "metadata": {},
   "outputs": [],
   "source": []
  }
 ],
 "metadata": {
  "kernelspec": {
   "display_name": "Python 3",
   "language": "python",
   "name": "python3"
  },
  "language_info": {
   "codemirror_mode": {
    "name": "ipython",
    "version": 3
   },
   "file_extension": ".py",
   "mimetype": "text/x-python",
   "name": "python",
   "nbconvert_exporter": "python",
   "pygments_lexer": "ipython3",
   "version": "3.10.13"
  }
 },
 "nbformat": 4,
 "nbformat_minor": 2
}
